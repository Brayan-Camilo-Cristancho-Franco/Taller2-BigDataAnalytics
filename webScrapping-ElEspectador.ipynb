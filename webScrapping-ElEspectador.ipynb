{
 "cells": [
  {
   "cell_type": "code",
   "execution_count": null,
   "metadata": {},
   "outputs": [],
   "source": [
    "# Importing required libraries\n",
    "\n",
    "import time\n",
    "\n",
    "from bs4 import BeautifulSoup\n",
    "from selenium import webdriver\n",
    "\n",
    "from pymongo import MongoClient"
   ]
  },
  {
   "cell_type": "markdown",
   "metadata": {
    "tags": []
   },
   "source": [
    "### Connection to MongoDB and simulation"
   ]
  },
  {
   "cell_type": "code",
   "execution_count": null,
   "metadata": {},
   "outputs": [],
   "source": [
    "# Creating a connection to MongoDB\n",
    "client = MongoClient('localhost', 27017)\n",
    "db = client['news']\n",
    "collection = db['elespectador']"
   ]
  },
  {
   "cell_type": "code",
   "execution_count": null,
   "metadata": {},
   "outputs": [],
   "source": [
    "# Base URL of the site to be analyzed\n",
    "SITE_URL = 'https://www.elespectador.com'"
   ]
  },
  {
   "cell_type": "code",
   "execution_count": null,
   "metadata": {},
   "outputs": [],
   "source": [
    "# Firefox web driver path\n",
    "# Download the driver for you S.O. here: https://github.com/mozilla/geckodriver/releases\n",
    "DRIVER_PATH = './geckodriver.exe'"
   ]
  },
  {
   "cell_type": "code",
   "execution_count": null,
   "metadata": {},
   "outputs": [],
   "source": [
    "# Creating a new firefox window\n",
    "browser = webdriver.Firefox(executable_path = DRIVER_PATH)"
   ]
  },
  {
   "cell_type": "code",
   "execution_count": null,
   "metadata": {},
   "outputs": [],
   "source": [
    "def make_request(browser, relative_path):\n",
    "    # Making the request and rendering the browser\n",
    "    browser.get(SITE_URL + relative_path)\n",
    "    \n",
    "    # Simulating vertical scrolling for handling lazy load\n",
    "    check_height = browser.execute_script('return document.body.scrollHeight;')\n",
    "    while True:\n",
    "        browser.execute_script('window.scrollTo(0, document.body.scrollHeight);')\n",
    "        time.sleep(3)\n",
    "        height = browser.execute_script('return document.body.scrollHeight;')\n",
    "        if height == check_height: \n",
    "            break \n",
    "        check_height = height\n",
    "    \n",
    "    # Getting HTML content and passing it to BeautifulSoup for scraping analysis\n",
    "    return BeautifulSoup(browser.page_source, 'html.parser')\n"
   ]
  },
  {
   "cell_type": "code",
   "execution_count": null,
   "metadata": {},
   "outputs": [],
   "source": [
    "# this function is created to simulate the opinion editorial category\n",
    "def make_request1(browser, relative_path):\n",
    "    # Making the request and rendering the browser\n",
    "    browser.get(SITE_URL + relative_path)\n",
    "    \n",
    "    # Simulating vertical scrolling for handling lazy load\n",
    "    check_height = browser.execute_script('return document.body.scrollHeight;')\n",
    "    while True:\n",
    "        browser.execute_script('window.scrollTo(0, document.body.scrollHeight);')\n",
    "        time.sleep(3)\n",
    "        height = browser.execute_script('return document.body.scrollHeight;')\n",
    "        if height == check_height: \n",
    "            break \n",
    "        check_height = height\n",
    "        \n",
    "    #simulate button click    \n",
    "    for i in range (15):\n",
    "        element = browser.find_element_by_css_selector('div[class*=\"pure-button\"]')\n",
    "        browser.execute_script(\"arguments[0].click();\", element)\n",
    "        \n",
    "    time.sleep(30)\n",
    "    \n",
    "    browser.execute_script('window.scrollTo(0,-250);')\n",
    "\n",
    "   \n",
    "    \n",
    "    # Getting HTML content and passing it to BeautifulSoup for scraping analysis\n",
    "    return BeautifulSoup(browser.page_source, 'html.parser')\n"
   ]
  },
  {
   "cell_type": "markdown",
   "metadata": {
    "jp-MarkdownHeadingCollapsed": true,
    "tags": []
   },
   "source": [
    "### Extract and organize the \"El Espectador\" information"
   ]
  },
  {
   "cell_type": "code",
   "execution_count": null,
   "metadata": {},
   "outputs": [],
   "source": [
    "def upload_news(category):\n",
    "    \n",
    "    news = []\n",
    "    cards = None\n",
    "    for i in range(1):\n",
    "        # Getting HTML content for news listing page\n",
    "        soup = make_request(browser, '/archivo/'+category+'/'+str((i+1))+'/')\n",
    "        \n",
    "        # Finding the section where news are contained \n",
    "        layout = soup.find(class_ = 'Layout-flexAds')\n",
    "        # Getting blocks from layout\n",
    "        blocks = layout.find('section').find_all(recursive = False)\n",
    "        \n",
    "        if cards is None:\n",
    "            cards = blocks[0].find_all(class_ = 'Card') + blocks[1].find_all(class_ = 'Card')\n",
    "            \n",
    "        else:\n",
    "            # Finding and concatenating news cards\n",
    "            cards = cards + blocks[0].find_all(class_ = 'Card') + blocks[1].find_all(class_ = 'Card')\n",
    "            \n",
    "        \n",
    "        # Building a list with title and relative path of the news founded\n",
    "        for card in cards:\n",
    "            news.append({\n",
    "                'title': card.find('h2', class_ = 'Card-Title').find('a').get_text(),\n",
    "                'relative_path': card.find('h2', class_ = 'Card-Title').find('a')['href']\n",
    "            })\n",
    "            \n",
    "            \n",
    "    return news\n",
    "\n"
   ]
  },
  {
   "cell_type": "code",
   "execution_count": null,
   "metadata": {},
   "outputs": [],
   "source": [
    "def order_information(news):\n",
    "    for n in news:\n",
    "        # Getting HTML content for news page\n",
    "        soup = make_request(browser, n['relative_path'])\n",
    "        \n",
    "        # conditional that determines if the article contains an author or not\n",
    "        if soup.find(class_ = 'ACredit-Author').find('a') is not None:\n",
    "            \n",
    "            # Extracting news metadata\n",
    "            n['datetime'] = soup.find(class_ = 'ArticleHeader-Date').get_text()\n",
    "            n['author'] = soup.find(class_ = 'ACredit-Author').find('a').get_text()\n",
    "            n['summary'] =soup.find(class_ = 'ArticleHeader-Hook').find('div').get_text()\n",
    "        \n",
    "        else:\n",
    "            n['author'] = 'no author'\n",
    "        \n",
    "        soup1 = soup\n",
    "        # remove <a> tag from html\n",
    "        [s.extract() for s in soup1(\"a\")]\n",
    "        \n",
    "        # Extracting and concatenating news full text\n",
    "        paragraphs = soup1.find_all(class_ = 'font--secondary')\n",
    "        n['full_text'] = ' '.join([p.get_text() for p in paragraphs])\n",
    "                \n",
    "    return news\n"
   ]
  },
  {
   "cell_type": "markdown",
   "metadata": {
    "jp-MarkdownHeadingCollapsed": true,
    "tags": []
   },
   "source": [
    "### Web scraping political category"
   ]
  },
  {
   "cell_type": "code",
   "execution_count": null,
   "metadata": {},
   "outputs": [],
   "source": [
    "news = upload_news('politica')\n",
    "len(news)"
   ]
  },
  {
   "cell_type": "code",
   "execution_count": null,
   "metadata": {},
   "outputs": [],
   "source": [
    "# Storing extracted information for further analysis\n",
    "collection.insert_many(order_information(news))"
   ]
  },
  {
   "cell_type": "markdown",
   "metadata": {
    "jp-MarkdownHeadingCollapsed": true,
    "tags": []
   },
   "source": [
    "###  Web scraping category editorial opinion"
   ]
  },
  {
   "cell_type": "code",
   "execution_count": null,
   "metadata": {},
   "outputs": [],
   "source": [
    "news = []\n",
    "\n",
    "# Getting HTML content for news listing page\n",
    "soup = make_request1(browser, '/opinion/editorial/')\n",
    "\n",
    "# Finding the section where news are contained \n",
    "layout = soup.find(class_ = 'Layout-flexAds')\n",
    "# Getting blocks from layout\n",
    "blocks = layout.find('section').find_all(recursive = False)\n",
    "\n",
    "# Finding and concatenating news cards\n",
    "cards =  blocks[0].find_all(class_ = 'Card') + blocks[1].find_all(class_ = 'Card')\n",
    "            \n",
    "# Building a list with title and relative path of the news founded\n",
    "for card in cards:\n",
    "    news.append({\n",
    "        'title': card.find('h2', class_ = 'Card-Title').find('a').get_text(),\n",
    "        'relative_path': card.find('h2', class_ = 'Card-Title').find('a')['href']\n",
    "    })"
   ]
  },
  {
   "cell_type": "code",
   "execution_count": null,
   "metadata": {},
   "outputs": [],
   "source": [
    "# Storing extracted information for further analysis\n",
    "collection.insert_many(order_information(news))"
   ]
  },
  {
   "cell_type": "markdown",
   "metadata": {
    "jp-MarkdownHeadingCollapsed": true,
    "tags": []
   },
   "source": [
    "###  Web scraping category economy"
   ]
  },
  {
   "cell_type": "code",
   "execution_count": null,
   "metadata": {},
   "outputs": [],
   "source": [
    "news = upload_news('economia')\n",
    "len(news)"
   ]
  },
  {
   "cell_type": "code",
   "execution_count": null,
   "metadata": {},
   "outputs": [],
   "source": [
    "# Storing extracted information for further analysis\n",
    "collection.insert_many(order_information(news))"
   ]
  },
  {
   "cell_type": "markdown",
   "metadata": {
    "jp-MarkdownHeadingCollapsed": true,
    "tags": []
   },
   "source": [
    "###  Web scraping category Colombia"
   ]
  },
  {
   "cell_type": "code",
   "execution_count": null,
   "metadata": {},
   "outputs": [],
   "source": [
    "news = upload_news('colombia')\n",
    "len(news)"
   ]
  },
  {
   "cell_type": "code",
   "execution_count": null,
   "metadata": {},
   "outputs": [],
   "source": [
    "# Storing extracted information for further analysis\n",
    "collection.insert_many(order_information(news))"
   ]
  },
  {
   "cell_type": "markdown",
   "metadata": {
    "jp-MarkdownHeadingCollapsed": true,
    "tags": []
   },
   "source": [
    "### Web scraping category Judicial"
   ]
  },
  {
   "cell_type": "code",
   "execution_count": null,
   "metadata": {},
   "outputs": [],
   "source": [
    "news = upload_news('judicial')\n",
    "len(news)"
   ]
  },
  {
   "cell_type": "code",
   "execution_count": null,
   "metadata": {},
   "outputs": [],
   "source": [
    "# Storing extracted information for further analysis\n",
    "collection.insert_many(order_information(news))"
   ]
  }
 ],
 "metadata": {
  "kernelspec": {
   "display_name": "Python 3 (ipykernel)",
   "language": "python",
   "name": "python3"
  },
  "language_info": {
   "codemirror_mode": {
    "name": "ipython",
    "version": 3
   },
   "file_extension": ".py",
   "mimetype": "text/x-python",
   "name": "python",
   "nbconvert_exporter": "python",
   "pygments_lexer": "ipython3",
   "version": "3.10.3"
  }
 },
 "nbformat": 4,
 "nbformat_minor": 4
}
