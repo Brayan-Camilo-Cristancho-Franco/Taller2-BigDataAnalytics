{
 "cells": [
  {
   "cell_type": "code",
   "execution_count": 1,
   "metadata": {},
   "outputs": [],
   "source": [
    "# Importing required libraries\n",
    "\n",
    "from pymongo import MongoClient\n",
    "from pymongo import TEXT"
   ]
  },
  {
   "cell_type": "code",
   "execution_count": 2,
   "metadata": {},
   "outputs": [],
   "source": [
    "# Creating a connection to MongoDB\n",
    "client = MongoClient('localhost', 27017)\n",
    "db = client['news']\n",
    "collection = db['elespectador']"
   ]
  },
  {
   "cell_type": "code",
   "execution_count": 3,
   "metadata": {},
   "outputs": [
    {
     "data": {
      "text/plain": [
       "'title_text_summary_text_full_text_text'"
      ]
     },
     "execution_count": 3,
     "metadata": {},
     "output_type": "execute_result"
    }
   ],
   "source": [
    "# Creating a text index over all text fields\n",
    "collection.create_index([('title', TEXT), ('summary', TEXT), ('full_text', TEXT)], default_language = 'spanish')"
   ]
  },
  {
   "cell_type": "code",
   "execution_count": 4,
   "metadata": {},
   "outputs": [],
   "source": [
    "# Searching by text\n",
    "result_search = list(collection.find({'$text': {'$search': 'elecciones presidenciales -petro'}}, {'_id': 0, 'summary': 1, 'title': 1, 'full_text': 1, 'score': { '$meta': \"textScore\" }}))"
   ]
  },
  {
   "cell_type": "code",
   "execution_count": 5,
   "metadata": {},
   "outputs": [
    {
     "data": {
      "text/plain": [
       "2"
      ]
     },
     "execution_count": 5,
     "metadata": {},
     "output_type": "execute_result"
    }
   ],
   "source": [
    "len(result_search)"
   ]
  },
  {
   "cell_type": "markdown",
   "metadata": {},
   "source": [
    "Checar como quitar lo de recomendamos"
   ]
  },
  {
   "cell_type": "code",
   "execution_count": 6,
   "metadata": {},
   "outputs": [
    {
     "data": {
      "text/plain": [
       "[{'title': '45% de la autoridad electoral desconoce del protocolo de voto trans',\n",
       "  'summary': 'El año pasado, el Consejo Nacional Electoral (CNE) emitió un protocolo para garantizar el derecho al voto de las personas trans en procesos electorales. En las elecciones del 13 de marzo se aplicaron por primera vez. Estas fueron las conclusiones.',\n",
       "  'full_text': 'En las pasadas elecciones del 13 de marzo, por primera vez el país vivió unos comicios que contaba con un protocolo para instruir a la autoridad electoral sobre cómo garantizar el derecho al voto de las personas trans, desde el ingreso al lugar de votación, hasta la expedición del certificado. Transcurrido un mes, la Misión de Observación Electoral (MOE), Caribe Afirmativo y el Grupo de Acción y Apoyo a Personas Trans (GAAT) presentaron el informe sobre cómo fue la aplicación y el cumplimiento de dicha guía elaborada por la Comisión Nacional Electoral (CNE). Del total de puestos de votación acompañados por parte de observadores con la única misión de asegurar el cumplimiento del protocolo, el 45% de la autoridad electoral de esos lugares desconocía la existencia del protocolo. La distribución es así: 34% de las personas jurados de votación indicaron no saber sobre el documento o haber recibido alguna capacitación; 40% de personas delegadas de la Registraduría; 63% de personas funcionarios de las mesas de justicia; y 44% de personas testigos.  Entre otras conclusiones, el informe destaca que los 40 observadores y observadoras, en su mayoría personas trans, pudieron votar. “Lo cual creemos que es en sí mismo un logro, ya que algunes de elles era la primera vez que votaban en su vida”, se resalta en el documento, pese a que se presentaron dos casos en los que hubo problemas para que las personas observadoras ingresaran a los lugares de votación a cumplir su tarea. Además de lo positivo, el informe señaló que el 47% de casos en puestos observados las personas trans no fueron requisadas por agentes de policía del género que ellos y ellas pidieron, lo que terminó “irrespetando su identidad de género y su consentimiento”. Otras alertas que la MOE, Caribe Afirmativo y GAAT hacen es que en el 66% de los puestos de votación observados no se encontraron piezas informativas sobre el protocolo. “Y en uno de los casos la observadora indicó que las autoridades electorales solo colocaron la pieza de forma visible después de que ella se identificó como observadora del protocolo de voto trans”. El informe reportó seis casos de tratos hostiles a las personas observadores por parte de diferentes autoridades; cuatro casos de algún tipo de discriminación por su identidad de género, “como miradas intrusivas, trato agresivo o negación de su identidad de género. Además, 15 observadores reportaron actos de discriminación similares por parte de miembros de la policía y personas delegadas de la Registraduría”. Le puede interesar:  Hechos que niegan la identidad de género de las personas trans son el uso del pronombre incorrecto al que el o la observadora se identificaba, o el uso de sus nombres de nacimiento. Por último, sobre la aplicación del protocolo, se reportaron cuatro casos en los que se incumplió este. “Un caso de negación del voto, un caso en el que le forzaron a usar su documento antiguo para votar, un caso en el que legaron el proceso de biometría y le gritaron, refiriéndose a él con el nombre y pronombres incorrectos, y un caso en el que le realizó la requisa un agente de la policía de un género distinta a la persona”. En conclusión, la MOE, Caribe Afirmativo y el GAAT destaca la labor de la Registraduría en capacitar a personas funcionarias a la luz del protocolo, pues se reportó un conocimiento de este entre el 60 y 70%. “Pero sigue siendo necesario mejorar dichos procesos de capacitación, fortalecerlos y que otras autoridades, especialmente la Fuerza Pública y las personas funcionarias de las mesas de justicia, empiecen a ser capacitadas seriamente”. Entre otras recomendaciones a la Registraduría, está la de actualizar las bases de datos con relación al cambio de identidad de personas trans. “Esta observación electoral del protocolo fue un hito para los derechos de las personas trans en Colombia, ya que las personas observadoras pudieron incluirse y empoderarse en su participación en la democracia. Este es solo un primer paso para fortalecer su participación política como comunidad”, finalizó el informe. Más: ',\n",
       "  'score': 1.0242153679653678},\n",
       " {'title': 'Hacia un sistema de salud menos hostil',\n",
       "  'summary': 'No summary',\n",
       "  'full_text': 'Los trámites administrativos en Colombia tienen el mal hábito de convertirse en torturas innecesarias para las personas más necesitadas. Es lo que viene ocurriendo desde hace años en el sistema de salud: a pesar de que las enfermedades crónicas y de alto costo están cubiertas junto con sus medicamentos, en el día a día las peleas contractuales hacen que los pacientes tengan que rogar para recibir los insumos necesarios de sus tratamientos. Se trata de una vulneración a su dignidad y a la promesa de la salud como derecho fundamental, y la causa es, entre varias otras, un aparato burocrático anticuado y a menudo paquidérmico. Por suerte, una decisión del Ministerio de Salud que entrará a regir a partir del mes entrante da un gran paso para aliviar este problema. El Decreto 441 de 2022 ha sido promovido por el ministro de Salud, Fernando Ruiz, y la viceministra de Protección Social, María Andrea Godoy Casadiego, como una herramienta esencial en la defensa de los derechos de los pacientes y un instrumento para agilizar los trámites en el sistema de salud. Aunque a menudo se han hecho promesas no cumplidas de este calibre en el sector, varios de los cambios introducidos en la normativa expedida son de celebrar para seguir construyendo un sistema de salud mucho menos hostil. También debería servir para alimentar el debate presidencial sobre cómo se puede construir sobre los avances que se han logrado gracias a buenos manejos en administraciones consecutivas. El cambio más sonado, por ser el que más impacta a los colombianos, es el de las autorizaciones. Básicamente, las nuevas reglas de contratación entre el Instituto Prestador de Salud (IPS) y la Entidad Promotora de Salud (EPS) prohíben las autorizaciones al prestar ciertos servicios. Aunque parece un mero asunto procedimental, tiene efectos prácticos importantes: en adelante, la población materno-perinatal y los pacientes con cáncer o VIH podrán ser atendidos y solicitar medicamentos directamente en el IPS. Una queja recurrente en los más de 500.000 pacientes a los que les aplica esta medida es que las autorizaciones de las EPS demoran tratamientos y medicamentos, en ocasiones con resultados trágicos. Todos los casos en los que la burocracia afecta el servicio son una falla a las promesas constitucionales y una vulneración a la dignidad de las personas. El decreto va más allá. Se trata de la actualización de una norma que llevaba quince años sin ser modernizada, y se nota. Se eliminan trámites, se establecen mecanismos para que los pacientes no sean remitidos de un lugar a otro de manera indiscriminada, crea herramientas de información para casos en los que haya terminación de contratos o los períodos de transición entre un contrato y otro, y propone un sistema de pagos que, si funciona, va a ser más transparente y a premiar los buenos resultados del sistema. Hace poco, a propósito de la creación de laboratorios con capacidades de investigación, el ministro Ruiz dijo que el “sistema de salud debe tener todas las capacidades para poder defenderse de futuras emergencias sanitarias”. No solo eso: también tenemos pendiente que atender las emergencias rutinarias, las que definen el día a día de los colombianos, sea mucho más eficiente. Se dio un buen paso hacia adelante con esta regulación del Ministerio de Salud, y ahora habrá que asegurarse de que se cumpla y no se le impongan retenes, como muchas veces sucede. Un reto para el futuro presidente será seguir en la transformación de un sistema frágil y con muchas deudas en la calidad del servicio, pero que tiene también buenos resultados por mostrar. ¿Está en desacuerdo con este editorial? Envíe su antieditorial de 500 palabras a . Nota del director. Necesitamos lectores como usted para seguir haciendo un periodismo independiente y de calidad.  y apostémosle al poder de la palabra.',\n",
       "  'score': 0.5015974440894568}]"
      ]
     },
     "execution_count": 6,
     "metadata": {},
     "output_type": "execute_result"
    }
   ],
   "source": [
    "result_search"
   ]
  },
  {
   "cell_type": "code",
   "execution_count": 7,
   "metadata": {},
   "outputs": [
    {
     "data": {
      "text/plain": [
       "[]"
      ]
     },
     "execution_count": 7,
     "metadata": {},
     "output_type": "execute_result"
    }
   ],
   "source": [
    "list(collection.find({'author': 'Laura Angélica  Ospina'}, {'_id': 0, 'datetime': 0, 'author': 0}))"
   ]
  },
  {
   "cell_type": "code",
   "execution_count": 8,
   "metadata": {},
   "outputs": [
    {
     "data": {
      "text/plain": [
       "[{'title': 'Análisis: ¿Todo está consumado en esta elección presidencial?',\n",
       "  'summary': 'En materia electoral, solo después de Semana Santa se sabrá si todo está definido en las presidenciales a dos vueltas, como algunos lo sostienen.',\n",
       "  'full_text': 'Hay una especie de conclusión generalizada sobre el proceso electoral. Según ella, Gustavo Petro ya ganó, el uribismo está sepultado y Sergio Fajardo no está en la pelea. Menos aun los demás aspirantes. ¿Qué tan cierta es esta visión? ¿Está todo consumado, como dice la frase propia de la Semana Santa?  La verdad es que es imposible saberlo. Formalmente faltan las dos vueltas presidenciales, con todas sus variaciones. No sería lo mismo una competencia de segunda vuelta entre Petro y Federico, Fico, Gutiérrez, que una entre Petro y Fajardo, o Ingrid Betancourt, o Enrique Gómez. ¡La lista es larga todavía! O que se logre meter en la carrera Rodolfo Hernández, el impredecible exalcalde de Bucaramanga, que, en general, ha sorprendido por su buen desempeño en las encuestas. Para no hablar de la posibilidad de que la segunda vuelta sea toda una sorpresa y que alguno de los diez que están en la parte baja de la tabla se logre colar con alguna propuesta adecuada para estos tiempos de incertidumbre y angustia. Y qué tal que Petro, como ha dicho públicamente, logre su meta de ganar en primera vuelta para evitar una alianza amplia contra él que repita el escenario de hace cuatro años. ¿Está descartado este escenario? Es decir, que se arme un amplio “toconpe” (todos contra Petro) que polarice la campaña de una forma diferente al Petro vs. Fico que la mayoría prevé. O que alguno de los candidatos que están en la parte baja de la tabla, varios de reconocida audacia y credibilidad, logre con alguna movida contradecir las tendencias y colarse en contra de las predicciones (¡ha pasado!). Si algo buscaban los constituyentes de 1991, en materia de elecciones presidenciales, era abrir el juego en las elecciones presidenciales y separarlas de la competencia por el Congreso. Y lo lograron. La prueba es que el comportamiento de los votantes en la disputa por la jefatura del Estado es muy distinto a las demás competencias electorales. María Paulina Baena y sus compañeros de La Pulla, con su conocida mezcla de humor, análisis, y escepticismo, se preguntan: “¿Petro ya ganó y el uribismo está muerto?”. Mientras Semana, por el contrario, insiste en que habrá (y que ya está definida) una segunda vuelta “de infarto” entre Petro y Gutiérrez. La verdad es que el tiempo pasa y la campaña se acorta, pero si algo se ha visto en elecciones anteriores es que todo puede cambiar en el último tramo. En otros países con segunda vuelta es en esta instancia cuando se llevan a cabo los debates presidenciales y los grandes eventos de campaña. ¿No se deberían dejar los debates para esa etapa? Las campañas en Colombia son excesivamente largas. Tienen una suerte de calendario extendido con tres citas electorales separadas: Congreso e internas de los partidos y, meses después, las dos vueltas presidenciales. La prueba de que cada una de ellas tiene un comportamiento distinto es que, cuando se planteó unificarlas con el fin de reducir costos, pulularon las voces que defienden el sistema actual y derrotaron rápidamente a quienes proponían cambiar el calendario. Por eso es demasiado pronto para predecir cómo será el final de esta maratón versión 2022. Lo que ha ocurrido, por ahora, es que la disputa entre partidos ha sido reemplazada por una competencia entre coaliciones, y los candidatos saltan de una a otra. Lo cual le ha restado altura al debate sobre ideas y propuestas. En esta ocasión ha bajado la importancia el color de la camiseta. El expresidente César Gaviria, director del Partido Liberal, por lo general, ha esperado hasta última hora para definir a quién apoyará, y, por primera vez, no tiene a un candidato de su partido, ni siquiera en coalición. Le puede interesar:  Seguramente quien acierte en entender una realidad política tan compleja, nueva y distinta, tendrá ventaja sobre los demás. En otras épocas, las de “liberal vota liberal”, las elecciones las ganaba la colectividad mayoritaria, o el que presentaba la propuesta más atractiva —como la de vivienda sin cuota inicial de Belisario Betancur—, o el más audaz, como Andrés Pastrana con su encuentro con Manuel Marulanda, que inició el proceso de paz. El nuevo panorama, con partidos distintos y, en general, con medios de comunicación más independientes, es diferente a los anteriores, hasta el punto de que quien lo entienda mejor tendrá una amplia ventaja. Es, en fin, demasiado temprano para afirmar que Petro ya ganó, el uribismo se acabó y Fajardo, Ingrid Betancourt o los otros que entraron más tarde a la carrera no están en el escenario ni en la competencia. Una cosa es que algunos llevan la delantera y, otra muy distinta que todo está definido. Pues en los últimos días se ha visto de todo: hasta acercamientos de Petro con el expresidente Gaviria. ¿Se puede decir que todo está consumado? Aun si todo es así y ya se anticipa cómo serán las dos vueltas y quién las ganará, todavía falta el trámite en la recta final. Y allí pueden pasar muchas cosas. *Periodista.'},\n",
       " {'title': '45% de la autoridad electoral desconoce del protocolo de voto trans',\n",
       "  'summary': 'El año pasado, el Consejo Nacional Electoral (CNE) emitió un protocolo para garantizar el derecho al voto de las personas trans en procesos electorales. En las elecciones del 13 de marzo se aplicaron por primera vez. Estas fueron las conclusiones.',\n",
       "  'full_text': 'En las pasadas elecciones del 13 de marzo, por primera vez el país vivió unos comicios que contaba con un protocolo para instruir a la autoridad electoral sobre cómo garantizar el derecho al voto de las personas trans, desde el ingreso al lugar de votación, hasta la expedición del certificado. Transcurrido un mes, la Misión de Observación Electoral (MOE), Caribe Afirmativo y el Grupo de Acción y Apoyo a Personas Trans (GAAT) presentaron el informe sobre cómo fue la aplicación y el cumplimiento de dicha guía elaborada por la Comisión Nacional Electoral (CNE). Del total de puestos de votación acompañados por parte de observadores con la única misión de asegurar el cumplimiento del protocolo, el 45% de la autoridad electoral de esos lugares desconocía la existencia del protocolo. La distribución es así: 34% de las personas jurados de votación indicaron no saber sobre el documento o haber recibido alguna capacitación; 40% de personas delegadas de la Registraduría; 63% de personas funcionarios de las mesas de justicia; y 44% de personas testigos.  Entre otras conclusiones, el informe destaca que los 40 observadores y observadoras, en su mayoría personas trans, pudieron votar. “Lo cual creemos que es en sí mismo un logro, ya que algunes de elles era la primera vez que votaban en su vida”, se resalta en el documento, pese a que se presentaron dos casos en los que hubo problemas para que las personas observadoras ingresaran a los lugares de votación a cumplir su tarea. Además de lo positivo, el informe señaló que el 47% de casos en puestos observados las personas trans no fueron requisadas por agentes de policía del género que ellos y ellas pidieron, lo que terminó “irrespetando su identidad de género y su consentimiento”. Otras alertas que la MOE, Caribe Afirmativo y GAAT hacen es que en el 66% de los puestos de votación observados no se encontraron piezas informativas sobre el protocolo. “Y en uno de los casos la observadora indicó que las autoridades electorales solo colocaron la pieza de forma visible después de que ella se identificó como observadora del protocolo de voto trans”. El informe reportó seis casos de tratos hostiles a las personas observadores por parte de diferentes autoridades; cuatro casos de algún tipo de discriminación por su identidad de género, “como miradas intrusivas, trato agresivo o negación de su identidad de género. Además, 15 observadores reportaron actos de discriminación similares por parte de miembros de la policía y personas delegadas de la Registraduría”. Le puede interesar:  Hechos que niegan la identidad de género de las personas trans son el uso del pronombre incorrecto al que el o la observadora se identificaba, o el uso de sus nombres de nacimiento. Por último, sobre la aplicación del protocolo, se reportaron cuatro casos en los que se incumplió este. “Un caso de negación del voto, un caso en el que le forzaron a usar su documento antiguo para votar, un caso en el que legaron el proceso de biometría y le gritaron, refiriéndose a él con el nombre y pronombres incorrectos, y un caso en el que le realizó la requisa un agente de la policía de un género distinta a la persona”. En conclusión, la MOE, Caribe Afirmativo y el GAAT destaca la labor de la Registraduría en capacitar a personas funcionarias a la luz del protocolo, pues se reportó un conocimiento de este entre el 60 y 70%. “Pero sigue siendo necesario mejorar dichos procesos de capacitación, fortalecerlos y que otras autoridades, especialmente la Fuerza Pública y las personas funcionarias de las mesas de justicia, empiecen a ser capacitadas seriamente”. Entre otras recomendaciones a la Registraduría, está la de actualizar las bases de datos con relación al cambio de identidad de personas trans. “Esta observación electoral del protocolo fue un hito para los derechos de las personas trans en Colombia, ya que las personas observadoras pudieron incluirse y empoderarse en su participación en la democracia. Este es solo un primer paso para fortalecer su participación política como comunidad”, finalizó el informe. Más: '},\n",
       " {'title': 'Críticas y apoyo al Ejército: presidenciables sobre acción militar en Putumayo',\n",
       "  'summary': 'La mayoría de candidatos presidenciales se pronunciaron sobre la investigación conjunta entre El Espectador, Revista Cambio y Vorágine, que evidencia algunas anomalías en la ejecución del operativo que se llevó a cabo el pasado 28 de marzo en Puerto Leguízamo, Putumayo. Algunos pidieron indagar a fondo lo ocurrido, mientras otros manifestaron su apoyo irrestricto a la Fuerza Pública.',\n",
       "  'full_text': 'La investigación realizada de forma conjunta por tres medios de comunicación (El Espectador, Revista Cambio y Vorágine) sobre la acción militar en Putumayo el pasado 28 de marzo, ha generado todo tipo reacciones al evidenciar las irregularidades que habría cometido la Fuerza Pública por las que, en medio del operativo para dar con el paradero de “Bruno”, líder de una facción de la disidencia de las Farc denominada Comandos de la Frontera, murieron 11 personas entre las que había civiles y un menor de edad.  Que los militares se identificaron como guerrilleros para atacar a un supuesto grupo de los Comandos de la Frontera, que llegaron vestidos de negro y luego se cambiaron a los habituales uniformes camuflados, y que los cuerpos de los asesinados fueron manipulados para ponerles armas, fueron solo algunas de las revelaciones de la triple publicación a la que reaccionaron la mayoría de candidatos presidenciales. Uno de los primeros en comentar lo ocurrido en Putumayo fue Sergio Fajardo, candidato presidencial de la Coalición Centro Esperanza. Antes de conocerse la serie de artículos, el exgobernador de Antioquia y exalcalde de Medellín pidió investigar lo sucedido en el operativo, siempre aclarando que en el hecho murieron civiles, como el presidente de la junta de acción comunal de la vereda, Divier Hernández; su esposa, Ana María Sarria, el gobernador indígena Pablo Panduro Coquinche, y un menor de 16 años.  Fajardo también cuestionó que nadie en el Ejército se ha responsabilizado por lo ocurrido y preguntó que “¿cuánto más hay que esperar para que el presidente, el ministro de Defensa y quienes ordenaron la operación reconozcan el asesinato de civiles en Putumayo?”. Para el candidato presidencial del centro, es necesario cuidar las instituciones, algo que a su juicio “empieza por tener cabezas que asuman responsabilidades y en este caso no está pasando”. Una vez salió al aire la serie de artículos, el primero en reaccionar fue Gustavo Petro (Pacto Histórico). El candidato que, según la mayoría de encuestas, puntea la intención de voto para la primera vuelta presidencial que se realizará el 29 de mayo se refirió a las críticas que le hizo el ministro de Defensa, Diego Molano, cuando luego de las primeras dudas sobre el operativo Petro dijo que el Ejército había cometido “una masacre de gente pobre en el Putumayo”. “El ministro de defensa me llamó embustero por criticar su crimen de guerra contra la población del Putumayo. En mi gobierno el honor será el eje de la fuerza pública, el mérito será el camino del ascenso y las armas defenderán libertades y derechos”, escribió el candidato del Pacto Histórico al citar el reportaje elaborado de forma conjunta. >LEA:  Aunque fue criticado por no hacer comentario alguno mientras el contenido de la investigación era tendencia en redes sociales, Federico Gutiérrez (Equipo por Colombia) se sumó en la noche del domingo a la petición de indagar lo sucedido en la acción militar, a la vez que manifestó su apoyo al Ejército. “Las Fuerzas Armadas tienen y seguirán teniendo como norte el respeto riguroso a los DDHH. Serán fundamentales en el fortalecimiento de la seguridad y el mejor aliado de la comunidad. Pido a las autoridades investigar con urgencia las denuncias sobre lo ocurrido en el Putumayo”, dijo el también exalcalde de Medellín. Quien no escatimó en términos para defender la Fuerza Pública, incluso haciendo peligrosos señalamientos contra los periodistas que realizaron la investigación, fue Enrique Gómez, candidato presidencial del Movimiento de Salvación Nacional. El sobrino del inmolado político conservador Álvaro Gómez Hurtado señaló a los comunicadores de haber “asumido las banderas del narcotráfico en demérito de las poblaciones más vulnerables del país” y consideró que hubo descontextualización de los testimonios. “El contexto con el que presentan la noticia es claramente parcializado y el ministro Molano debe mantenerse y presentar sus expedientes”, aseguró Gómez, quien reiteró sus críticas a los medios de comunicación afirmando que “no son juzgados ni jueces de los valientes hombres que componen las Fuerzas Armadas. El debido proceso debe darse en todas las circunstancias”. En esa misma vía John Milton Rodríguez, candidato presidencial por Colombia Justa Libres, defendió el debido proceso para los implicados en el operativo. Ante los micrófonos de W Radio, el senador opinó que el ministro Diego Molano debe mantenerse en su cargo y desde allí explicar cómo se dio el operativo. “Me llama la atención es dónde está el grito en el cielo por parte de todos los medios y de las entidades de derechos humanos frente al reclutamiento forzado de menores, dónde está el grito en el cielo de tomar medidas y denunciar cómo se toma población civil como escudos humanos para tratar de impedir la operación efectiva de las Fuerzas Militares”, aseguró. También se refirió al tema la candidata presidencial por Verde Oxígeno, Ingrid Betancourt, quien pidió despejar toda duda sobre el operativo militar. “Un falso positivo es la violación de derechos humanos más atroz de la historia reciente. No puede haber impunidad. El gobierno tiene que hacer lo necesario para esclarecer. El Estado tiene que protegernos para recuperar la confianza y permitir la reconciliación”, escribió en sus redes sociales. >VEA:  Pero no solo los presidenciables se pronunciaron sobre las revelaciones, sino también exaspirantes a la Presidencia. Uno de ellos fue Juan Manuel Galán, director del Nuevo Liberalismo y quien compitió la primera parte de la carrera hacia la Casa de Nariño en representación de esa colectividad. Galán se refirió también a un hipotético retorno de las prácticas que se calificaron como falsos positivos, resaltando que “fueron 6.402 civiles asesinados por miembros de la fuerza pública entre 2002 y 2008, para ser presentados como ‘bajas en combate’”, y señaló al presidente Iván Duque como “encubridor” en este caso. Carlos Amaya, otro excompetidor por la Presidencia en representación de la Coalición Centro Esperanza, fue claro en llamar el operativo militar como una injustificable “masacre a manos del Estado” y solicitó al presidente Iván Duque que dé las explicaciones necesarias. También pidió “que el ministro Diego Molano renuncie y las autoridades competentes investiguen con celeridad”.'},\n",
       " {'title': 'Hacia un sistema de salud menos hostil',\n",
       "  'summary': 'No summary',\n",
       "  'full_text': 'Los trámites administrativos en Colombia tienen el mal hábito de convertirse en torturas innecesarias para las personas más necesitadas. Es lo que viene ocurriendo desde hace años en el sistema de salud: a pesar de que las enfermedades crónicas y de alto costo están cubiertas junto con sus medicamentos, en el día a día las peleas contractuales hacen que los pacientes tengan que rogar para recibir los insumos necesarios de sus tratamientos. Se trata de una vulneración a su dignidad y a la promesa de la salud como derecho fundamental, y la causa es, entre varias otras, un aparato burocrático anticuado y a menudo paquidérmico. Por suerte, una decisión del Ministerio de Salud que entrará a regir a partir del mes entrante da un gran paso para aliviar este problema. El Decreto 441 de 2022 ha sido promovido por el ministro de Salud, Fernando Ruiz, y la viceministra de Protección Social, María Andrea Godoy Casadiego, como una herramienta esencial en la defensa de los derechos de los pacientes y un instrumento para agilizar los trámites en el sistema de salud. Aunque a menudo se han hecho promesas no cumplidas de este calibre en el sector, varios de los cambios introducidos en la normativa expedida son de celebrar para seguir construyendo un sistema de salud mucho menos hostil. También debería servir para alimentar el debate presidencial sobre cómo se puede construir sobre los avances que se han logrado gracias a buenos manejos en administraciones consecutivas. El cambio más sonado, por ser el que más impacta a los colombianos, es el de las autorizaciones. Básicamente, las nuevas reglas de contratación entre el Instituto Prestador de Salud (IPS) y la Entidad Promotora de Salud (EPS) prohíben las autorizaciones al prestar ciertos servicios. Aunque parece un mero asunto procedimental, tiene efectos prácticos importantes: en adelante, la población materno-perinatal y los pacientes con cáncer o VIH podrán ser atendidos y solicitar medicamentos directamente en el IPS. Una queja recurrente en los más de 500.000 pacientes a los que les aplica esta medida es que las autorizaciones de las EPS demoran tratamientos y medicamentos, en ocasiones con resultados trágicos. Todos los casos en los que la burocracia afecta el servicio son una falla a las promesas constitucionales y una vulneración a la dignidad de las personas. El decreto va más allá. Se trata de la actualización de una norma que llevaba quince años sin ser modernizada, y se nota. Se eliminan trámites, se establecen mecanismos para que los pacientes no sean remitidos de un lugar a otro de manera indiscriminada, crea herramientas de información para casos en los que haya terminación de contratos o los períodos de transición entre un contrato y otro, y propone un sistema de pagos que, si funciona, va a ser más transparente y a premiar los buenos resultados del sistema. Hace poco, a propósito de la creación de laboratorios con capacidades de investigación, el ministro Ruiz dijo que el “sistema de salud debe tener todas las capacidades para poder defenderse de futuras emergencias sanitarias”. No solo eso: también tenemos pendiente que atender las emergencias rutinarias, las que definen el día a día de los colombianos, sea mucho más eficiente. Se dio un buen paso hacia adelante con esta regulación del Ministerio de Salud, y ahora habrá que asegurarse de que se cumpla y no se le impongan retenes, como muchas veces sucede. Un reto para el futuro presidente será seguir en la transformación de un sistema frágil y con muchas deudas en la calidad del servicio, pero que tiene también buenos resultados por mostrar. ¿Está en desacuerdo con este editorial? Envíe su antieditorial de 500 palabras a . Nota del director. Necesitamos lectores como usted para seguir haciendo un periodismo independiente y de calidad.  y apostémosle al poder de la palabra.'}]"
      ]
     },
     "execution_count": 8,
     "metadata": {},
     "output_type": "execute_result"
    }
   ],
   "source": [
    "list(collection.find({'$text': {'$search': 'elecciones presidenciales'}}, {'_id': 0, 'summary': 1, 'title': 1, 'full_text': 1,}))"
   ]
  },
  {
   "cell_type": "code",
   "execution_count": null,
   "metadata": {},
   "outputs": [],
   "source": []
  }
 ],
 "metadata": {
  "kernelspec": {
   "display_name": "Python 3",
   "language": "python",
   "name": "python3"
  },
  "language_info": {
   "codemirror_mode": {
    "name": "ipython",
    "version": 3
   },
   "file_extension": ".py",
   "mimetype": "text/x-python",
   "name": "python",
   "nbconvert_exporter": "python",
   "pygments_lexer": "ipython3",
   "version": "3.8.8"
  }
 },
 "nbformat": 4,
 "nbformat_minor": 4
}
