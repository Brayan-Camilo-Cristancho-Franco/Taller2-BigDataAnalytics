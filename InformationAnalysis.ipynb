{
 "cells": [
  {
   "cell_type": "code",
   "execution_count": 2,
   "metadata": {},
   "outputs": [],
   "source": [
    "# Importing required libraries\n",
    "\n",
    "from pymongo import MongoClient\n",
    "from pymongo import TEXT"
   ]
  },
  {
   "cell_type": "code",
   "execution_count": 3,
   "metadata": {},
   "outputs": [],
   "source": [
    "# Creating a connection to MongoDB\n",
    "client = MongoClient('localhost', 27017)\n",
    "db = client['news']\n",
    "collection = db['elespectador']"
   ]
  },
  {
   "cell_type": "code",
   "execution_count": 4,
   "metadata": {},
   "outputs": [
    {
     "ename": "OperationFailure",
     "evalue": "An equivalent index already exists with a different name and options. Requested index: { v: 2, key: { _fts: \"text\", _ftsx: 1 }, name: \"title_text_summary_text_full_text_text\", default_language: \"spanish\", weights: { full_text: 1, summary: 1, title: 1 }, language_override: \"language\", textIndexVersion: 3 }, existing index: { v: 2, key: { _fts: \"text\", _ftsx: 1 }, name: \"title_text_full_text_text\", default_language: \"spanish\", weights: { full_text: 1, title: 1 }, language_override: \"language\", textIndexVersion: 3 }, full error: {'ok': 0.0, 'errmsg': 'An equivalent index already exists with a different name and options. Requested index: { v: 2, key: { _fts: \"text\", _ftsx: 1 }, name: \"title_text_summary_text_full_text_text\", default_language: \"spanish\", weights: { full_text: 1, summary: 1, title: 1 }, language_override: \"language\", textIndexVersion: 3 }, existing index: { v: 2, key: { _fts: \"text\", _ftsx: 1 }, name: \"title_text_full_text_text\", default_language: \"spanish\", weights: { full_text: 1, title: 1 }, language_override: \"language\", textIndexVersion: 3 }', 'code': 85, 'codeName': 'IndexOptionsConflict'}",
     "output_type": "error",
     "traceback": [
      "\u001b[1;31m---------------------------------------------------------------------------\u001b[0m",
      "\u001b[1;31mOperationFailure\u001b[0m                          Traceback (most recent call last)",
      "\u001b[1;32m<ipython-input-4-145b5890f194>\u001b[0m in \u001b[0;36m<module>\u001b[1;34m\u001b[0m\n\u001b[0;32m      1\u001b[0m \u001b[1;31m# Creating a text index over all text fields\u001b[0m\u001b[1;33m\u001b[0m\u001b[1;33m\u001b[0m\u001b[1;33m\u001b[0m\u001b[0m\n\u001b[1;32m----> 2\u001b[1;33m \u001b[0mcollection\u001b[0m\u001b[1;33m.\u001b[0m\u001b[0mcreate_index\u001b[0m\u001b[1;33m(\u001b[0m\u001b[1;33m[\u001b[0m\u001b[1;33m(\u001b[0m\u001b[1;34m'title'\u001b[0m\u001b[1;33m,\u001b[0m \u001b[0mTEXT\u001b[0m\u001b[1;33m)\u001b[0m\u001b[1;33m,\u001b[0m \u001b[1;33m(\u001b[0m\u001b[1;34m'summary'\u001b[0m\u001b[1;33m,\u001b[0m \u001b[0mTEXT\u001b[0m\u001b[1;33m)\u001b[0m\u001b[1;33m,\u001b[0m \u001b[1;33m(\u001b[0m\u001b[1;34m'full_text'\u001b[0m\u001b[1;33m,\u001b[0m \u001b[0mTEXT\u001b[0m\u001b[1;33m)\u001b[0m\u001b[1;33m]\u001b[0m\u001b[1;33m,\u001b[0m \u001b[0mdefault_language\u001b[0m \u001b[1;33m=\u001b[0m \u001b[1;34m'spanish'\u001b[0m\u001b[1;33m)\u001b[0m\u001b[1;33m\u001b[0m\u001b[1;33m\u001b[0m\u001b[0m\n\u001b[0m",
      "\u001b[1;32m~\\anaconda3\\lib\\site-packages\\pymongo\\collection.py\u001b[0m in \u001b[0;36mcreate_index\u001b[1;34m(self, keys, session, comment, **kwargs)\u001b[0m\n\u001b[0;32m   2021\u001b[0m             \u001b[0mcmd_options\u001b[0m\u001b[1;33m[\u001b[0m\u001b[1;34m\"comment\"\u001b[0m\u001b[1;33m]\u001b[0m \u001b[1;33m=\u001b[0m \u001b[0mcomment\u001b[0m\u001b[1;33m\u001b[0m\u001b[1;33m\u001b[0m\u001b[0m\n\u001b[0;32m   2022\u001b[0m         \u001b[0mindex\u001b[0m \u001b[1;33m=\u001b[0m \u001b[0mIndexModel\u001b[0m\u001b[1;33m(\u001b[0m\u001b[0mkeys\u001b[0m\u001b[1;33m,\u001b[0m \u001b[1;33m**\u001b[0m\u001b[0mkwargs\u001b[0m\u001b[1;33m)\u001b[0m\u001b[1;33m\u001b[0m\u001b[1;33m\u001b[0m\u001b[0m\n\u001b[1;32m-> 2023\u001b[1;33m         \u001b[1;32mreturn\u001b[0m \u001b[0mself\u001b[0m\u001b[1;33m.\u001b[0m\u001b[0m__create_indexes\u001b[0m\u001b[1;33m(\u001b[0m\u001b[1;33m[\u001b[0m\u001b[0mindex\u001b[0m\u001b[1;33m]\u001b[0m\u001b[1;33m,\u001b[0m \u001b[0msession\u001b[0m\u001b[1;33m,\u001b[0m \u001b[1;33m**\u001b[0m\u001b[0mcmd_options\u001b[0m\u001b[1;33m)\u001b[0m\u001b[1;33m[\u001b[0m\u001b[1;36m0\u001b[0m\u001b[1;33m]\u001b[0m\u001b[1;33m\u001b[0m\u001b[1;33m\u001b[0m\u001b[0m\n\u001b[0m\u001b[0;32m   2024\u001b[0m \u001b[1;33m\u001b[0m\u001b[0m\n\u001b[0;32m   2025\u001b[0m     def drop_indexes(\n",
      "\u001b[1;32m~\\anaconda3\\lib\\site-packages\\pymongo\\collection.py\u001b[0m in \u001b[0;36m__create_indexes\u001b[1;34m(self, indexes, session, **kwargs)\u001b[0m\n\u001b[0;32m   1898\u001b[0m                 )\n\u001b[0;32m   1899\u001b[0m \u001b[1;33m\u001b[0m\u001b[0m\n\u001b[1;32m-> 1900\u001b[1;33m             self._command(\n\u001b[0m\u001b[0;32m   1901\u001b[0m                 \u001b[0msock_info\u001b[0m\u001b[1;33m,\u001b[0m\u001b[1;33m\u001b[0m\u001b[1;33m\u001b[0m\u001b[0m\n\u001b[0;32m   1902\u001b[0m                 \u001b[0mcmd\u001b[0m\u001b[1;33m,\u001b[0m\u001b[1;33m\u001b[0m\u001b[1;33m\u001b[0m\u001b[0m\n",
      "\u001b[1;32m~\\anaconda3\\lib\\site-packages\\pymongo\\collection.py\u001b[0m in \u001b[0;36m_command\u001b[1;34m(self, sock_info, command, read_preference, codec_options, check, allowable_errors, read_concern, write_concern, collation, session, retryable_write, user_fields)\u001b[0m\n\u001b[0;32m    270\u001b[0m         \"\"\"\n\u001b[0;32m    271\u001b[0m         \u001b[1;32mwith\u001b[0m \u001b[0mself\u001b[0m\u001b[1;33m.\u001b[0m\u001b[0m__database\u001b[0m\u001b[1;33m.\u001b[0m\u001b[0mclient\u001b[0m\u001b[1;33m.\u001b[0m\u001b[0m_tmp_session\u001b[0m\u001b[1;33m(\u001b[0m\u001b[0msession\u001b[0m\u001b[1;33m)\u001b[0m \u001b[1;32mas\u001b[0m \u001b[0ms\u001b[0m\u001b[1;33m:\u001b[0m\u001b[1;33m\u001b[0m\u001b[1;33m\u001b[0m\u001b[0m\n\u001b[1;32m--> 272\u001b[1;33m             return sock_info.command(\n\u001b[0m\u001b[0;32m    273\u001b[0m                 \u001b[0mself\u001b[0m\u001b[1;33m.\u001b[0m\u001b[0m__database\u001b[0m\u001b[1;33m.\u001b[0m\u001b[0mname\u001b[0m\u001b[1;33m,\u001b[0m\u001b[1;33m\u001b[0m\u001b[1;33m\u001b[0m\u001b[0m\n\u001b[0;32m    274\u001b[0m                 \u001b[0mcommand\u001b[0m\u001b[1;33m,\u001b[0m\u001b[1;33m\u001b[0m\u001b[1;33m\u001b[0m\u001b[0m\n",
      "\u001b[1;32m~\\anaconda3\\lib\\site-packages\\pymongo\\pool.py\u001b[0m in \u001b[0;36mcommand\u001b[1;34m(self, dbname, spec, read_preference, codec_options, check, allowable_errors, read_concern, write_concern, parse_write_concern_error, collation, session, client, retryable_write, publish_events, user_fields, exhaust_allowed)\u001b[0m\n\u001b[0;32m    741\u001b[0m             \u001b[0mself\u001b[0m\u001b[1;33m.\u001b[0m\u001b[0m_raise_if_not_writable\u001b[0m\u001b[1;33m(\u001b[0m\u001b[0munacknowledged\u001b[0m\u001b[1;33m)\u001b[0m\u001b[1;33m\u001b[0m\u001b[1;33m\u001b[0m\u001b[0m\n\u001b[0;32m    742\u001b[0m         \u001b[1;32mtry\u001b[0m\u001b[1;33m:\u001b[0m\u001b[1;33m\u001b[0m\u001b[1;33m\u001b[0m\u001b[0m\n\u001b[1;32m--> 743\u001b[1;33m             return command(\n\u001b[0m\u001b[0;32m    744\u001b[0m                 \u001b[0mself\u001b[0m\u001b[1;33m,\u001b[0m\u001b[1;33m\u001b[0m\u001b[1;33m\u001b[0m\u001b[0m\n\u001b[0;32m    745\u001b[0m                 \u001b[0mdbname\u001b[0m\u001b[1;33m,\u001b[0m\u001b[1;33m\u001b[0m\u001b[1;33m\u001b[0m\u001b[0m\n",
      "\u001b[1;32m~\\anaconda3\\lib\\site-packages\\pymongo\\network.py\u001b[0m in \u001b[0;36mcommand\u001b[1;34m(sock_info, dbname, spec, is_mongos, read_preference, codec_options, session, client, check, allowable_errors, address, listeners, max_bson_size, read_concern, parse_write_concern_error, collation, compression_ctx, use_op_msg, unacknowledged, user_fields, exhaust_allowed)\u001b[0m\n\u001b[0;32m    158\u001b[0m                 \u001b[0mclient\u001b[0m\u001b[1;33m.\u001b[0m\u001b[0m_process_response\u001b[0m\u001b[1;33m(\u001b[0m\u001b[0mresponse_doc\u001b[0m\u001b[1;33m,\u001b[0m \u001b[0msession\u001b[0m\u001b[1;33m)\u001b[0m\u001b[1;33m\u001b[0m\u001b[1;33m\u001b[0m\u001b[0m\n\u001b[0;32m    159\u001b[0m             \u001b[1;32mif\u001b[0m \u001b[0mcheck\u001b[0m\u001b[1;33m:\u001b[0m\u001b[1;33m\u001b[0m\u001b[1;33m\u001b[0m\u001b[0m\n\u001b[1;32m--> 160\u001b[1;33m                 helpers._check_command_response(\n\u001b[0m\u001b[0;32m    161\u001b[0m                     \u001b[0mresponse_doc\u001b[0m\u001b[1;33m,\u001b[0m\u001b[1;33m\u001b[0m\u001b[1;33m\u001b[0m\u001b[0m\n\u001b[0;32m    162\u001b[0m                     \u001b[0msock_info\u001b[0m\u001b[1;33m.\u001b[0m\u001b[0mmax_wire_version\u001b[0m\u001b[1;33m,\u001b[0m\u001b[1;33m\u001b[0m\u001b[1;33m\u001b[0m\u001b[0m\n",
      "\u001b[1;32m~\\anaconda3\\lib\\site-packages\\pymongo\\helpers.py\u001b[0m in \u001b[0;36m_check_command_response\u001b[1;34m(response, max_wire_version, allowable_errors, parse_write_concern_error)\u001b[0m\n\u001b[0;32m    178\u001b[0m         \u001b[1;32mraise\u001b[0m \u001b[0mCursorNotFound\u001b[0m\u001b[1;33m(\u001b[0m\u001b[0merrmsg\u001b[0m\u001b[1;33m,\u001b[0m \u001b[0mcode\u001b[0m\u001b[1;33m,\u001b[0m \u001b[0mresponse\u001b[0m\u001b[1;33m,\u001b[0m \u001b[0mmax_wire_version\u001b[0m\u001b[1;33m)\u001b[0m\u001b[1;33m\u001b[0m\u001b[1;33m\u001b[0m\u001b[0m\n\u001b[0;32m    179\u001b[0m \u001b[1;33m\u001b[0m\u001b[0m\n\u001b[1;32m--> 180\u001b[1;33m     \u001b[1;32mraise\u001b[0m \u001b[0mOperationFailure\u001b[0m\u001b[1;33m(\u001b[0m\u001b[0merrmsg\u001b[0m\u001b[1;33m,\u001b[0m \u001b[0mcode\u001b[0m\u001b[1;33m,\u001b[0m \u001b[0mresponse\u001b[0m\u001b[1;33m,\u001b[0m \u001b[0mmax_wire_version\u001b[0m\u001b[1;33m)\u001b[0m\u001b[1;33m\u001b[0m\u001b[1;33m\u001b[0m\u001b[0m\n\u001b[0m\u001b[0;32m    181\u001b[0m \u001b[1;33m\u001b[0m\u001b[0m\n\u001b[0;32m    182\u001b[0m \u001b[1;33m\u001b[0m\u001b[0m\n",
      "\u001b[1;31mOperationFailure\u001b[0m: An equivalent index already exists with a different name and options. Requested index: { v: 2, key: { _fts: \"text\", _ftsx: 1 }, name: \"title_text_summary_text_full_text_text\", default_language: \"spanish\", weights: { full_text: 1, summary: 1, title: 1 }, language_override: \"language\", textIndexVersion: 3 }, existing index: { v: 2, key: { _fts: \"text\", _ftsx: 1 }, name: \"title_text_full_text_text\", default_language: \"spanish\", weights: { full_text: 1, title: 1 }, language_override: \"language\", textIndexVersion: 3 }, full error: {'ok': 0.0, 'errmsg': 'An equivalent index already exists with a different name and options. Requested index: { v: 2, key: { _fts: \"text\", _ftsx: 1 }, name: \"title_text_summary_text_full_text_text\", default_language: \"spanish\", weights: { full_text: 1, summary: 1, title: 1 }, language_override: \"language\", textIndexVersion: 3 }, existing index: { v: 2, key: { _fts: \"text\", _ftsx: 1 }, name: \"title_text_full_text_text\", default_language: \"spanish\", weights: { full_text: 1, title: 1 }, language_override: \"language\", textIndexVersion: 3 }', 'code': 85, 'codeName': 'IndexOptionsConflict'}"
     ]
    }
   ],
   "source": [
    "# Creating a text index over all text fields\n",
    "collection.create_index([('title', TEXT), ('summary', TEXT), ('full_text', TEXT)], default_language = 'spanish')"
   ]
  },
  {
   "cell_type": "code",
   "execution_count": 5,
   "metadata": {},
   "outputs": [],
   "source": [
    "# Searching by text\n",
    "result_search = list(collection.find({'$text': {'$search': 'elecciones presidenciales -petro'}}, {'_id': 0, 'summary': 1, 'title': 1, 'full_text': 1, 'score': { '$meta': \"textScore\" }}))"
   ]
  },
  {
   "cell_type": "code",
   "execution_count": 6,
   "metadata": {},
   "outputs": [
    {
     "data": {
      "text/plain": [
       "4"
      ]
     },
     "execution_count": 6,
     "metadata": {},
     "output_type": "execute_result"
    }
   ],
   "source": [
    "len(result_search)"
   ]
  },
  {
   "cell_type": "markdown",
   "metadata": {},
   "source": [
    "Checar como quitar lo de recomendamos"
   ]
  },
  {
   "cell_type": "code",
   "execution_count": 7,
   "metadata": {},
   "outputs": [
    {
     "data": {
      "text/plain": [
       "[{'title': 'Sergio Fajardo: un estilo que otros quieren imitar',\n",
       "  'summary': 'El candidato fue alcalde de Medellín (2004-2007) y gobernador de Antioquia (2012 – 2015). En 2022 se postuló como presidente por la Coalición Centro Esperanza y ganó la consulta interpartidista con 723.475 votos. En El Hilo le contamos qué comunica con su ropa.',\n",
       "  'full_text': 'Sergio Fajardo nació el 19 de junio de 1956 en Medellín. Es matemático de la Universidad de los Andes. Tiene un Ph.D. en Matemáticas de la Universidad de Wisconsin-Madison. Fue alcalde de Medellin (2004 - 2007) y gobernador de Antioquia (2012 – 2015). Recomendamos: Francia Márquez, ¿la irreverente?: así usó la moda para contar quién es En 2018 aspiró a la presidencia de Colombia y obtuvo más de 4.500.000 votos. En marzo de 2022 se convirtió en el candidato presidencial por la Coalición Centro Esperanza tras ganar la consulta interpartidista con 723.475 votos. Recomendamos: Jean levantacola: hecho en Colombia y un símbolo de la moda local',\n",
       "  'score': 0.5076923076923077},\n",
       " {'title': 'Colombia: la paz con legalidad que transforma',\n",
       "  'full_text': 'Con la certeza del deber cumplido, a cuatro meses de terminar su mandato, el presidente Iván Duque ha logrado- con los avances de la política de Paz con Legalidad – un escenario para que Colombia sea un mejor país, que los principios de equidad, igualdad y oportunidades sean irreversibles, y las futuras administraciones puedan construir sobre lo ya construido. Le puede interesar:  La Paz con Legalidad fue la ruta señalada en 2018 para implementar los Acuerdos e ir más allá, como ha ocurrido, en la solución de problemas anacrónicos, que envejecieron mal, en detrimento de la sociedad, y que debieron solucionarse hace décadas. El equipo de gobierno tuvo como ejes una planeación seria y de largo plazo, una manifestación política de cumplimiento y acciones que aseguran un proceso transformador irreversible. En su visita a Colombia en noviembre pasado, el secretario General de las Naciones Unidas, Antonio Guterres, reconoció los avances alcanzados pese a las dificultades del momento y a la huella de las violencias prolongadas, y destacó a Colombia como un modelo para el mundo en la construcción de paz. Los avances en la transformación, que ya son visibles y validados por las comunidades beneficiadas, se fundamentan en la ejecución del llamado “índice de Paz con Legalidad”: 1: Garantías políticas y jurídicas; 2. Víctimas y restitución de tierras; 3. Reincorporación; 4. Programas de Desarrollo con Enfoque Territorial; 5. Sustitución voluntaria de cultivos ilícitos; 6. Desarrollo rural integral; 7. Mujeres y género; 8. Enfoque étnico; 9. Desminado humanitario.  El Plan Marco de Implementación determina 516 indicadores de cumplimiento para los gobiernos de turno. En ese esfuerzo hemos trabajado sin descanso, pese al impacto generado por la pandemia del COVID-19 y a las dificultades propias de estos tiempos. Si miramos lo que se ha logrado en apoyo a las víctimas de la violencia, con reparaciones individuales o a las comunidades aquejadas en conjunto por los violentos, el apoyo a casi el 50% de los 13 mil excombatientes de las Farc y que hoy tienen un proyecto individual o colectivo, o el respaldo a casi 100 mil familias que ya no cultivan coca y están en la legalidad, puedo decir que hemos avanzado mucho más de lo que proporcionalmente nos correspondía. Hay 6,6 millones de colombianos que viven en las regiones más golpeadas por la violencia y la pobreza. Ocupan casi el 30% de la “Colombia dispersa”, los sitios más lejanos del millón 138 mil kilómetros cuadrados de nuestra superficie. A través de los Programas de Desarrollo con Enfoque Territorial (PDET), una gran herramienta de transformación rural, se invierten hoy en esas regiones más de $11,7 billones de pesos (USD 3.284 M), el equivalente al 70% de lo que cuesta la primera línea el metro de Bogotá. Es necesario hacer un reconocimiento al sector privado, a los empresarios, a las autoridades de todas las regiones, y en especial a la comunidad internacional. La cooperación internacional tuvo el tiempo de analizar el rumbo que le estábamos dando a la implementación. Después de consultarlo y estudiar lo logrado en todos los frentes, se han alineado con las políticas diseñadas por el gobierno del presidente Duque y, acorde con esas políticas, han ratificado políticamente y con recursos para la paz que este es el camino correcto para Colombia. En plena campaña electoral, algunos desconocen los avances en la implementación, cuando es claro entender que esa práctica no construye paz. Hoy, los verdaderos enemigos de la paz son los disidentes y narcotraficantes que atacan a los líderes sociales, a los excombatientes y a la fuerza pública, con una acción criminal que rechaza toda la sociedad. La violencia no tiene futuro. *Consejero Presidencial para la Estabilización y la Consolidación.',\n",
       "  'score': 0.501577287066246},\n",
       " {'title': 'Sergio Fajardo: un estilo que otros quieren imitar',\n",
       "  'summary': 'El candidato fue alcalde de Medellín (2004-2007) y gobernador de Antioquia (2012 – 2015). En 2022 se postuló como presidente por la Coalición Centro Esperanza y ganó la consulta interpartidista con 723.475 votos. En El Hilo le contamos qué comunica con su ropa.',\n",
       "  'full_text': 'Sergio Fajardo nació el 19 de junio de 1956 en Medellín. Es matemático de la Universidad de los Andes. Tiene un Ph.D. en Matemáticas de la Universidad de Wisconsin-Madison. Fue alcalde de Medellin (2004 - 2007) y gobernador de Antioquia (2012 – 2015). Recomendamos:  En 2018 aspiró a la presidencia de Colombia y obtuvo más de 4.500.000 votos. En marzo de 2022 se convirtió en el candidato presidencial por la Coalición Centro Esperanza tras ganar la consulta interpartidista con 723.475 votos. Recomendamos: ',\n",
       "  'score': 0.51},\n",
       " {'title': 'Elecciones 2022: nuevas críticas por falta de paridad en el Pacto Histórico',\n",
       "  'score': 0.5625}]"
      ]
     },
     "execution_count": 7,
     "metadata": {},
     "output_type": "execute_result"
    }
   ],
   "source": [
    "result_search"
   ]
  },
  {
   "cell_type": "code",
   "execution_count": 8,
   "metadata": {},
   "outputs": [
    {
     "data": {
      "text/plain": [
       "[]"
      ]
     },
     "execution_count": 8,
     "metadata": {},
     "output_type": "execute_result"
    }
   ],
   "source": [
    "list(collection.find({'author': 'Laura Angélica  Ospina'}, {'_id': 0, 'datetime': 0, 'author': 0}))"
   ]
  },
  {
   "cell_type": "code",
   "execution_count": 9,
   "metadata": {},
   "outputs": [
    {
     "data": {
      "text/plain": [
       "[{'title': 'Elecciones 2022: nuevas críticas por falta de paridad en el Pacto Histórico'},\n",
       " {'title': 'Sergio Fajardo: un estilo que otros quieren imitar',\n",
       "  'summary': 'El candidato fue alcalde de Medellín (2004-2007) y gobernador de Antioquia (2012 – 2015). En 2022 se postuló como presidente por la Coalición Centro Esperanza y ganó la consulta interpartidista con 723.475 votos. En El Hilo le contamos qué comunica con su ropa.',\n",
       "  'full_text': 'Sergio Fajardo nació el 19 de junio de 1956 en Medellín. Es matemático de la Universidad de los Andes. Tiene un Ph.D. en Matemáticas de la Universidad de Wisconsin-Madison. Fue alcalde de Medellin (2004 - 2007) y gobernador de Antioquia (2012 – 2015). Recomendamos:  En 2018 aspiró a la presidencia de Colombia y obtuvo más de 4.500.000 votos. En marzo de 2022 se convirtió en el candidato presidencial por la Coalición Centro Esperanza tras ganar la consulta interpartidista con 723.475 votos. Recomendamos: '},\n",
       " {'title': 'Sergio Fajardo: un estilo que otros quieren imitar',\n",
       "  'summary': 'El candidato fue alcalde de Medellín (2004-2007) y gobernador de Antioquia (2012 – 2015). En 2022 se postuló como presidente por la Coalición Centro Esperanza y ganó la consulta interpartidista con 723.475 votos. En El Hilo le contamos qué comunica con su ropa.',\n",
       "  'full_text': 'Sergio Fajardo nació el 19 de junio de 1956 en Medellín. Es matemático de la Universidad de los Andes. Tiene un Ph.D. en Matemáticas de la Universidad de Wisconsin-Madison. Fue alcalde de Medellin (2004 - 2007) y gobernador de Antioquia (2012 – 2015). Recomendamos: Francia Márquez, ¿la irreverente?: así usó la moda para contar quién es En 2018 aspiró a la presidencia de Colombia y obtuvo más de 4.500.000 votos. En marzo de 2022 se convirtió en el candidato presidencial por la Coalición Centro Esperanza tras ganar la consulta interpartidista con 723.475 votos. Recomendamos: Jean levantacola: hecho en Colombia y un símbolo de la moda local'},\n",
       " {'title': 'Francia Márquez no conoce la paz ni la tranquilidad hace veinte años',\n",
       "  'full_text': 'Francia Márquez Mina (1982, vereda Yolombó, Suárez, Cauca), candidata a la vicepresidencia de Colombia por el Pacto Histórico, no ha conocido la paz ni la tranquilidad en, por lo menos, los últimos veinte años. “Ya está bueno de las amenazas”, dijo a comienzos de abril, después de difundir en redes sociales un panfleto firmado por las “Águilas Negras. Bloque Capital” en el que se advierte que la “exterminarán” como a “las ratas”: a ella; a su fórmula presidencial, Gustavo Petro, y a otros miembros de esa colectividad. A las amenazas (que suman tres en menos de un mes, según Márquez) se han sumado otras violencias crudas y estructurales que apenas estamos empezando a encarar como sociedad: el racismo y el clasismo. El camino a la vicepresidencia ha sido, en su vida, más de lo mismo: violencia. Francia Márquez lleva veinte años enfrentando (sobreviviendo) a unas violencias diferenciadas y exacerbadas por el hecho de ser mujer, ser negra, ser lideresa social, y defender el ambiente y el territorio. Esos componentes esenciales de su vida la han puesto en un mayor grado de exposición a unas violencias que, además, han sido sistemáticas. La académica y feminista británica Cynthia Cockburn se refiere, en casos como este, a un “continuum de violencias” por la circularidad y la permanencia de éstas en las vidas de las mujeres.'},\n",
       " {'title': 'Colombia: la paz con legalidad que transforma',\n",
       "  'full_text': 'Con la certeza del deber cumplido, a cuatro meses de terminar su mandato, el presidente Iván Duque ha logrado- con los avances de la política de Paz con Legalidad – un escenario para que Colombia sea un mejor país, que los principios de equidad, igualdad y oportunidades sean irreversibles, y las futuras administraciones puedan construir sobre lo ya construido. Le puede interesar:  La Paz con Legalidad fue la ruta señalada en 2018 para implementar los Acuerdos e ir más allá, como ha ocurrido, en la solución de problemas anacrónicos, que envejecieron mal, en detrimento de la sociedad, y que debieron solucionarse hace décadas. El equipo de gobierno tuvo como ejes una planeación seria y de largo plazo, una manifestación política de cumplimiento y acciones que aseguran un proceso transformador irreversible. En su visita a Colombia en noviembre pasado, el secretario General de las Naciones Unidas, Antonio Guterres, reconoció los avances alcanzados pese a las dificultades del momento y a la huella de las violencias prolongadas, y destacó a Colombia como un modelo para el mundo en la construcción de paz. Los avances en la transformación, que ya son visibles y validados por las comunidades beneficiadas, se fundamentan en la ejecución del llamado “índice de Paz con Legalidad”: 1: Garantías políticas y jurídicas; 2. Víctimas y restitución de tierras; 3. Reincorporación; 4. Programas de Desarrollo con Enfoque Territorial; 5. Sustitución voluntaria de cultivos ilícitos; 6. Desarrollo rural integral; 7. Mujeres y género; 8. Enfoque étnico; 9. Desminado humanitario.  El Plan Marco de Implementación determina 516 indicadores de cumplimiento para los gobiernos de turno. En ese esfuerzo hemos trabajado sin descanso, pese al impacto generado por la pandemia del COVID-19 y a las dificultades propias de estos tiempos. Si miramos lo que se ha logrado en apoyo a las víctimas de la violencia, con reparaciones individuales o a las comunidades aquejadas en conjunto por los violentos, el apoyo a casi el 50% de los 13 mil excombatientes de las Farc y que hoy tienen un proyecto individual o colectivo, o el respaldo a casi 100 mil familias que ya no cultivan coca y están en la legalidad, puedo decir que hemos avanzado mucho más de lo que proporcionalmente nos correspondía. Hay 6,6 millones de colombianos que viven en las regiones más golpeadas por la violencia y la pobreza. Ocupan casi el 30% de la “Colombia dispersa”, los sitios más lejanos del millón 138 mil kilómetros cuadrados de nuestra superficie. A través de los Programas de Desarrollo con Enfoque Territorial (PDET), una gran herramienta de transformación rural, se invierten hoy en esas regiones más de $11,7 billones de pesos (USD 3.284 M), el equivalente al 70% de lo que cuesta la primera línea el metro de Bogotá. Es necesario hacer un reconocimiento al sector privado, a los empresarios, a las autoridades de todas las regiones, y en especial a la comunidad internacional. La cooperación internacional tuvo el tiempo de analizar el rumbo que le estábamos dando a la implementación. Después de consultarlo y estudiar lo logrado en todos los frentes, se han alineado con las políticas diseñadas por el gobierno del presidente Duque y, acorde con esas políticas, han ratificado políticamente y con recursos para la paz que este es el camino correcto para Colombia. En plena campaña electoral, algunos desconocen los avances en la implementación, cuando es claro entender que esa práctica no construye paz. Hoy, los verdaderos enemigos de la paz son los disidentes y narcotraficantes que atacan a los líderes sociales, a los excombatientes y a la fuerza pública, con una acción criminal que rechaza toda la sociedad. La violencia no tiene futuro. *Consejero Presidencial para la Estabilización y la Consolidación.'}]"
      ]
     },
     "execution_count": 9,
     "metadata": {},
     "output_type": "execute_result"
    }
   ],
   "source": [
    "list(collection.find({'$text': {'$search': 'elecciones presidenciales'}}, {'_id': 0, 'summary': 1, 'title': 1, 'full_text': 1,}))"
   ]
  },
  {
   "cell_type": "code",
   "execution_count": null,
   "metadata": {},
   "outputs": [],
   "source": []
  }
 ],
 "metadata": {
  "kernelspec": {
   "display_name": "Python 3",
   "language": "python",
   "name": "python3"
  },
  "language_info": {
   "codemirror_mode": {
    "name": "ipython",
    "version": 3
   },
   "file_extension": ".py",
   "mimetype": "text/x-python",
   "name": "python",
   "nbconvert_exporter": "python",
   "pygments_lexer": "ipython3",
   "version": "3.8.8"
  }
 },
 "nbformat": 4,
 "nbformat_minor": 4
}
