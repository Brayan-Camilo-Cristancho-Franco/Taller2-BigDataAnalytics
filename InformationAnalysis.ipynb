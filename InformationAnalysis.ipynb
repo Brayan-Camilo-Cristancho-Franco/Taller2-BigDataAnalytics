{
 "cells": [
  {
   "cell_type": "code",
   "execution_count": 1,
   "metadata": {},
   "outputs": [],
   "source": [
    "# Importing required libraries\n",
    "\n",
    "from pymongo import MongoClient\n",
    "from pymongo import TEXT"
   ]
  },
  {
   "cell_type": "code",
   "execution_count": 2,
   "metadata": {},
   "outputs": [],
   "source": [
    "# Creating a connection to MongoDB\n",
    "client = MongoClient('localhost', 27017)\n",
    "db = client['news']\n",
    "collection = db['elespectador']"
   ]
  },
  {
   "cell_type": "code",
   "execution_count": 3,
   "metadata": {},
   "outputs": [
    {
     "data": {
      "text/plain": [
       "'title_text_summary_text_full_text_text'"
      ]
     },
     "execution_count": 3,
     "metadata": {},
     "output_type": "execute_result"
    }
   ],
   "source": [
    "# Creating a text index over all text fields\n",
    "collection.create_index([('title', TEXT), ('summary', TEXT), ('full_text', TEXT)], default_language = 'spanish')"
   ]
  },
  {
   "cell_type": "code",
   "execution_count": 4,
   "metadata": {},
   "outputs": [
    {
     "data": {
      "text/plain": [
       "[]"
      ]
     },
     "execution_count": 4,
     "metadata": {},
     "output_type": "execute_result"
    }
   ],
   "source": [
    "list(collection.find({'author': 'Laura Angélica  Ospina'}, {'_id': 0, 'datetime': 0, 'author': 0}))"
   ]
  },
  {
   "cell_type": "code",
   "execution_count": 5,
   "metadata": {},
   "outputs": [
    {
     "data": {
      "text/plain": [
       "[{'title': 'El Espectador no publicó que Gutiérrez pondría pico y placa en todo el país ',\n",
       "  'summary': 'Está circulando un pantallazo sobre la supuesta publicación en Twitter, pero esta no tiene sustento en la realidad.',\n",
       "  'full_text': 'Es falsa la captura de pantalla que está circulando en redes sociales, especialmente en Twitter, y que es atribuida a El Espectador, sobre supuestas propuestas del candidato presidencial Federico Gutiérrez.  (Lea: Petro se reunirá con congresistas liberales el próximo miércoles) La imagen ha sido compartida por usuarios digitales, pensando que hace parte de los contenidos de este diario que hacen referencia al cubrimiento político de las elecciones presidenciales. Sin embargo, tanto el supuesto contenido como las propuestas de Gutiérrez no son ciertas.  La campaña de Federico Gutiérrez le dijo a este diario que además de esta, el candidato también ha sido víctima de noticias falsas atribuidas a otros medios como Semana y El Tiempo.  De hecho, el portal ColombiaCheck publicó hace dos días un chequeo que realizó a una información achacada a El Tiempo, que exponía que “posibles narcotraficantes están financiando la campaña de ‘Fico’ Gutiérrez”.  (Más: Elecciones 2022: así quedó la Cámara de Representantes en 22 departamentos) “El pantallazo que circula en redes sociales de una supuesta noticia de El Tiempo es un montaje. Ni este periódico ni ningún otro medio han publicado nada sobre la posible financiación de narcotraficantes a la campaña del candidato presidencial del Equipo por Colombia”, escribió en ColombiaCheck la periodista Paola Benjumea.  Cabe recordar que en la exposición programática del candidato Gutiérrez, en el punto de seguridad, no se incluyen datos ni propuestas de subir impuestos a motos, poner pico y placa todo el día en todo el país, y tampoco la implementación de peajes urbanos.  Esta es la publicación falsa que está rondando sobre El Espectador:  >Lea más sobre las elecciones de 2022 y otras noticias del mundo político'},\n",
       " {'title': 'Petro se reunirá con congresistas liberales el próximo miércoles',\n",
       "  'summary': 'La reunión se daría luego de que el expresidente César Gaviria rompiera cualquier posibilidad de alianza con Petro y el Pacto Histórico.',\n",
       "  'full_text': '¿Los diálogos entre Gustavo Petro y el Partido Liberal estarán del todo rotos? Al parecer, aún hay posibilidades para que los congresistas rojos construyan alguna alianza con el líder de izquierda que aspira por tercera vez a la Presidencia. El Espectador pudo confirmar que el próximo miércoles (30 de marzo), el candidato presidencial Gustavo Petro se reunirá con algunos parlamentarios de la colectividad que dirige el expresidente César Gaviria. (Lea: Los caminos judiciales para pelear los resultados de las elecciones del Congreso) Según algunos legisladores liberales, será un desayuno con parte de la bancada y asistirían aquellos quienes tienen simpatía con la propuesta de Petro o que definitivamente no aceptarían el mandato colectivo de apoyar a Federico Gutiérrez, candidato de la derecha. A algunos de ellos los estarían convocando los liberales que tienen mayor cercanía con el senador de Colombia Humana. El desayuno se daría luego de que el expresidente César Gaviria, como director del partido, decidiera romper cualquier posibilidad de alianza entre su colectividad y el Pacto Histórico. (Lea también: Verdes, en libertad para primera vuelta y con los alternativos en segunda) A pesar de las críticas, desde antes de que se celebraran las consultas interpartidistas, Petro estaba teniendo puentes con Gaviria pues parte de su estrategia era ampliar sus alianzas más allá de la izquierda. Así las cosas, por su fuerte estructura política, el Partido Liberal aparece como la gran joya de la corona para ganar la Presidencia y Petro intentó, a través de dos reuniones conocidas públicamente, de lograr el respaldo de Gaviria y los liberales. Sin embargo, esa posibilidad se vio menguada el pasado miércoles. Ese día, en horas de la tarde, Gaviria se escudó en supuestos mensajes de odio de Francia Márquez, fórmula vicepresidencial de Petro, para destruir los acercamientos con el Pacto Histórico. Esto, a pesar de que Gaviria había concretado con su bancada en la Cámara que la decisión si adherir o no a Petro sería colectiva y no la tomaría en solitario. >Lea más sobre las elecciones de 2022 y otras noticias del mundo político'},\n",
       " {'title': '“Este es un momento de justicia racial y de género”: Francia Márquez',\n",
       "  'summary': 'Gustavo Petro y Francia Márquez inscribieron este viernes su fórmula presidencial para competir en la primera vuelta que se realizará el 29 de mayo.',\n",
       "  'full_text': 'Este viernes, Francia Márquez y Gustavo Petro inscribieron su candidatura a la Presidencia, que se disputará entre varios sectores políticos el próximo 29 e mayo. La firma la realizaron con un esfero de guadua que Márquez, fórmula a la vicepresidencia, le entregó a Petro como símbolo de la historia que juntos esperan construir, de ganar en primera vuelta.  (Lea: Petro se reunirá con congresistas liberales el próximo miércoles) “Gustavo Petro Urrego, en nombre de las víctimas de este país, de los niños y niñas, de las juventudes, de los líderes y lideresas sociales, de los trabajadores, en nombre de las mujeres en su diversidad, en nombre de la comunidad diversa LGBTIQ+, en nombre de los pueblos indígenas, afrodescendientes, de los campesinos, y en memoria de la naturaleza, le entregamos este esfero, para que usted con su hermana Francia Márquez, escribamos una nueva historia para Colombia”, dijo la fórmula vicepresidencial del Pacto Histórico.  A ello, Petro, candidato a la Presidencia, respondió haciendo referencia a la carga simbólica de un esfero en medio de un país que continúa inmerso en el conflicto armado. “Cuánta distancia entre un fusil y un esfero. Significa que el esfero es el símbolo del cambio en Colombia. Este es el símbolo de la educación. Cuánto cambiaría Colombia si este fuera el símbolo nacional. El día que nos posicionamos en la Casa de Nariño volveremos a firmar con este esfero”, mencionó.  (Más: Duque anunció envío de ayuda humanitaria para refugiados ucranianos) Sus discursos ante la Registraduría estuvieron enfocados tanto en la implementación del Acuerdo de Paz, como en la reivindicación del pueblo negro y las mujeres de tener a una representante como Márquez compitiendo por un puesto de poder en el legislativo, luego de haber sacado más de 750.000 votos en la consulta del Pacto Histórico, realizada el pasado 13 de marzo.  “Este es un momento muy importante para las nadies de este país. Es un momento de justicia racial, de género, ecológica y social. Como pueblo, como familias, estamos aquí escribiendo una nueva historia para Colombia. Llegó el momento de ustedes de tomar decisiones en favor de la vida. Es una apuesta por vivir sabroso”, manifestó Márquez, insistiendo en la filosofía de vida que se ha tejido desde las poblaciones afrodescendientes “que fueron poblando, desde la abolición de la esclavitud a mediados del siglo XIX, la cuenca media del río Atrato y sus afluentes al norte del litoral Pacífico colombiano”, como lo dice la académica Natalia Quiceno Toro.  Petro, por su lado, reiteró sus intenciones de poner en el centro la implementación del Acuerdo de Paz para el cuatrienio 2022-2026, y reconstruir las trizas que, dijo, ha hecho el gobierno del presidente Iván Duque con lo pactado en La Habana, en 2016.  (Conozca: Elecciones 2022: así quedó la Cámara de Representantes en 22 departamentos) “Mantener las cosas como están es un suicidio. Cambiar es un imperativo. La paz es una palabra olvidada en Colombia. Se creyó construida y la hicieron trizas. Hoy esos acuerdos firmados por el Gobierno de Santos se miden en muertos. Los invitamos a que aquí con el Pacto Histórico, nos acompañen a volver realidad la promesa que quedó incumplida porque alguien obtuvo el apoyo popular de que había que hacer trizas el Acuerdo. Lo que hay que hace trizas no es la paz, es la guerra”, expresó Petro Urrego. >Lea más sobre las elecciones de 2022 y otras noticias del mundo político'},\n",
       " {'title': 'Duque anunció envío de ayuda humanitaria para refugiados ucranianos',\n",
       "  'summary': 'El apoyo se dará en el marco de la solicitud que hizo la OTAN a países aliados y socios, para asistir a víctimas y refugiados de la guerra en Ucrania.',\n",
       "  'full_text': 'Durante la instalación de la Cuarta Cumbre de Habilidades de la Organización para la Cooperación y el Desarrollo Económico (OCDE), en Cartagena, el presidente Iván Duque habló sobre la “volatilidad” e “incertidumbre” que vive el mundo, por cuenta de la pandemia y lo que calificó como “hechos demenciales de violencia”, en referencia a la invasión rusa a Ucrania. >Lea más sobre las elecciones de 2022 y otras noticias del mundo político Respecto a la guerra en Ucrania, el mandatario también anunció el envío de ayuda humanitaria para la atención de refugiados y afectados por los ataques ordenados por Vladimir Putin. Lo hará en el marco del reciente nombramiento de Colombia como país aliado no OTAN. Aunque se desconocen los términos de la ayuda que se enviará, este es uno de los términos que conlleva el estatus especial que fue anunciado hace dos semanas por el presidente de Estados Unidos, Joe Biden. “Me enorgullece anunciar que vamos a declarar a Colombia como uno de los principales aliados no miembros de la OTAN. Este es el reconocimiento de la estrecha relación que existe entre nuestros países y somos muy afortunados de estar aquí reunidos hablando de diferentes temas”, dijo en su momento el mandatario norteamericano tras un encuentro formal con Duque. Duque, por su parte, agradeció el gesto de Biden en medio de la celebración de 200 años de relaciones bilaterales entre ambos países: “Es histórico para nosotros la declaratoria de Colombia como país aliado estratégico no miembro de la OTAN. Esto significa celebrar este bicentenario de relación bilateral llevándola al punto más alto de nuestra historia”, manifestó el primer mandatario colombiano. La confirmación de la ayuda, además, se da en medio de los rumores de la reunión telefónica que tendría Duque con su homólogo ucraniano, Volodímir Zelenski. Al parecer, la conversación se viene postergando desde la semana pasada, pero se espera que Duque le manifieste su solidaridad y le confirme el apoyo económico a los ucranianos afectados por la guerra y a los colombianos que tuvieron que huir del conflicto. Y es que Zelenski, desde hace algunos días, viene solicitándole a la OTAN que “salve” a Ucrania y envíe “ayuda militar sin restricciones” para hacerle frente a la ofensiva rusa. Zelenski hizo el llamado en un video difundido durante una cumbre extraordinaria de la OTAN en Bruselas, e intervino también en las reuniones del G7 y de la Unión Europea que se celebraron en la capital belga.'}]"
      ]
     },
     "execution_count": 5,
     "metadata": {},
     "output_type": "execute_result"
    }
   ],
   "source": [
    "list(collection.find({'$text': {'$search': 'elecciones presidenciales'}}, {'_id': 0, 'summary': 1, 'title': 1, 'full_text': 1,}))"
   ]
  },
  {
   "cell_type": "code",
   "execution_count": null,
   "metadata": {},
   "outputs": [],
   "source": []
  }
 ],
 "metadata": {
  "kernelspec": {
   "display_name": "Python 3 (ipykernel)",
   "language": "python",
   "name": "python3"
  },
  "language_info": {
   "codemirror_mode": {
    "name": "ipython",
    "version": 3
   },
   "file_extension": ".py",
   "mimetype": "text/x-python",
   "name": "python",
   "nbconvert_exporter": "python",
   "pygments_lexer": "ipython3",
   "version": "3.10.3"
  }
 },
 "nbformat": 4,
 "nbformat_minor": 4
}
